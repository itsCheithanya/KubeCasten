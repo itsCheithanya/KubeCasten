{
  "nbformat": 4,
  "nbformat_minor": 0,
  "metadata": {
    "colab": {
      "provenance": [],
      "include_colab_link": true
    },
    "kernelspec": {
      "name": "python3",
      "display_name": "Python 3"
    },
    "language_info": {
      "name": "python"
    }
  },
  "cells": [
    {
      "cell_type": "markdown",
      "metadata": {
        "id": "view-in-github",
        "colab_type": "text"
      },
      "source": [
        "<a href=\"https://colab.research.google.com/github/itsCheithanya/KubeCasten/blob/main/bi_gru_cnn.ipynb\" target=\"_parent\"><img src=\"https://colab.research.google.com/assets/colab-badge.svg\" alt=\"Open In Colab\"/></a>"
      ]
    },
    {
      "cell_type": "code",
      "execution_count": 7,
      "metadata": {
        "id": "DJYX2r2gTKc1",
        "colab": {
          "base_uri": "https://localhost:8080/"
        },
        "outputId": "5664d605-ddca-4528-c1c1-34bdeed18cdd"
      },
      "outputs": [
        {
          "output_type": "stream",
          "name": "stdout",
          "text": [
            "Mounted at /content/gdrive\n"
          ]
        }
      ],
      "source": [
        "from google.colab import drive\n",
        "\n",
        "drive.mount('/content/gdrive')"
      ]
    },
    {
      "cell_type": "code",
      "source": [
        "#  /content/gdrive/My Drive/\n",
        "import pandas as pd\n",
        "\n",
        "df = pd.read_csv(r'/content/gdrive/My Drive/output1.csv')\n",
        "df.head"
      ],
      "metadata": {
        "id": "nq7XdAXdVPnf",
        "colab": {
          "base_uri": "https://localhost:8080/"
        },
        "outputId": "921f7aff-4db8-4c28-96a8-784b5a01e793"
      },
      "execution_count": null,
      "outputs": [
        {
          "output_type": "execute_result",
          "data": {
            "text/plain": [
              "<bound method NDFrame.head of                         IP Address                     Date/Time  \\\n",
              "0                     199.72.81.55  [01/Jul/1995:00:00:01 -0400]   \n",
              "1             unicomp6.unicomp.net  [01/Jul/1995:00:00:06 -0400]   \n",
              "2                   199.120.110.21  [01/Jul/1995:00:00:09 -0400]   \n",
              "3               burger.letters.com  [01/Jul/1995:00:00:11 -0400]   \n",
              "4                   199.120.110.21  [01/Jul/1995:00:00:11 -0400]   \n",
              "...                            ...                           ...   \n",
              "1048570  ix-atl10-28.ix.netcom.com  [14/Jul/1995:10:05:59 -0400]   \n",
              "1048571              198.133.29.18  [14/Jul/1995:10:05:59 -0400]   \n",
              "1048572              192.68.108.59  [14/Jul/1995:10:06:00 -0400]   \n",
              "1048573              192.68.108.59  [14/Jul/1995:10:06:00 -0400]   \n",
              "1048574         oregon.oxmol.co.uk  [14/Jul/1995:10:06:00 -0400]   \n",
              "\n",
              "                                                   Request  \n",
              "0                          \"GET /history/apollo/ HTTP/1.0\"  \n",
              "1                       \"GET /shuttle/countdown/ HTTP/1.0\"  \n",
              "2        \"GET /shuttle/missions/sts-73/mission-sts-73.h...  \n",
              "3           \"GET /shuttle/countdown/liftoff.html HTTP/1.0\"  \n",
              "4        \"GET /shuttle/missions/sts-73/sts-73-patch-sma...  \n",
              "...                                                    ...  \n",
              "1048570  \"GET /shuttle/missions/sts-70/movies/movies.ht...  \n",
              "1048571     \"GET /shuttle/missions/missions.html HTTP/1.0\"  \n",
              "1048572           \"GET /images/KSC-logosmall.gif HTTP/1.0\"  \n",
              "1048573          \"GET /images/NASA-logosmall.gif HTTP/1.0\"  \n",
              "1048574                 \"GET /htbin/cdt_clock.pl HTTP/1.0\"  \n",
              "\n",
              "[1048575 rows x 3 columns]>"
            ]
          },
          "metadata": {},
          "execution_count": 3
        }
      ]
    },
    {
      "cell_type": "code",
      "source": [
        "from google.colab import drive\n",
        "drive.mount('/content/drive')"
      ],
      "metadata": {
        "id": "kAz8McbzZsV_"
      },
      "execution_count": null,
      "outputs": []
    },
    {
      "cell_type": "code",
      "source": [
        "from numpy import array\n",
        "from keras.models import Sequential\n",
        "from keras.layers import LSTM\n",
        "from keras.layers import Dense"
      ],
      "metadata": {
        "id": "d_uBCUZiV5L6"
      },
      "execution_count": null,
      "outputs": []
    },
    {
      "cell_type": "code",
      "source": [
        "# univariate data preparation\n",
        "from numpy import array\n",
        "\n",
        "# split a univariate sequence into samples\n",
        "def split_sequence(sequence, n_steps):\n",
        "\tX, y = list(), list()\n",
        "\tfor i in range(len(sequence)):\n",
        "\t\t# find the end of this pattern\n",
        "\t\tend_ix = i + n_steps\n",
        "\t\t# check if we are beyond the sequence\n",
        "\t\tif end_ix > len(sequence)-1:\n",
        "\t\t\tbreak\n",
        "\t\t# gather input and output parts of the pattern\n",
        "\t\tseq_x, seq_y = sequence[i:end_ix], sequence[end_ix]\n",
        "\t\tX.append(seq_x)\n",
        "\t\ty.append(seq_y)\n",
        "\treturn array(X), array(y)\n",
        "\n",
        "# define input sequence\n",
        "raw_seq = [10, 20, 30, 40, 50, 60, 70, 80, 90]\n",
        "# choose a number of time steps\n",
        "n_steps = 3\n",
        "# split into samples\n",
        "X, y = split_sequence(raw_seq, n_steps)\n",
        "# summarize the data\n",
        "for i in range(len(y)):\n",
        "\tprint(X[i], y[i])\n",
        "print(X.shape)\n",
        "print(X.shape[0])\n",
        "print(X.shape[1])\n",
        "...\n",
        "# reshape from [samples, timesteps] into [samples, timesteps, features]\n",
        "n_features = 1\n",
        "X = X.reshape((X.shape[0], X.shape[1], n_features))\n",
        "# for i in range(len(X)):\n",
        "# \tprint(X[i])\n",
        " \n",
        " \n"
      ],
      "metadata": {
        "id": "kV4SLjn9WM_n",
        "colab": {
          "base_uri": "https://localhost:8080/"
        },
        "outputId": "09d55f80-0584-44af-e8c8-dd8f97ff5013"
      },
      "execution_count": null,
      "outputs": [
        {
          "output_type": "stream",
          "name": "stdout",
          "text": [
            "[10 20 30] 40\n",
            "[20 30 40] 50\n",
            "[30 40 50] 60\n",
            "[40 50 60] 70\n",
            "[50 60 70] 80\n",
            "[60 70 80] 90\n",
            "(6, 3)\n",
            "6\n",
            "3\n"
          ]
        }
      ]
    },
    {
      "cell_type": "code",
      "source": [
        "lst = [1,2,3,4]\n",
        "lst[0:2]"
      ],
      "metadata": {
        "id": "_N19k1rhvnq0",
        "colab": {
          "base_uri": "https://localhost:8080/"
        },
        "outputId": "415e6af0-5c78-4986-e39b-b615bb189d19"
      },
      "execution_count": null,
      "outputs": [
        {
          "output_type": "execute_result",
          "data": {
            "text/plain": [
              "[1, 2]"
            ]
          },
          "metadata": {},
          "execution_count": 1
        }
      ]
    },
    {
      "cell_type": "code",
      "source": [
        "# univariate stacked lstm example\n",
        "from numpy import array\n",
        "from keras.models import Sequential\n",
        "from keras.layers import LSTM\n",
        "from keras.layers import Dense\n",
        "\n",
        "# split a univariate sequence\n",
        "def split_sequence(sequence, n_steps):\n",
        "\tX, y = list(), list()\n",
        "\tfor i in range(len(sequence)):\n",
        "\t\t# find the end of this pattern\n",
        "\t\tend_ix = i + n_steps\n",
        "\t\t# check if we are beyond the sequence\n",
        "\t\tif end_ix > len(sequence)-1:\n",
        "\t\t\tbreak\n",
        "\t\t# gather input and output parts of the pattern\n",
        "\t\tseq_x, seq_y = sequence[i:end_ix], sequence[end_ix]\n",
        "\t\tX.append(seq_x)\n",
        "\t\ty.append(seq_y)\n",
        "\treturn array(X), array(y)\n",
        "\n",
        "# define input sequence\n",
        "raw_seq = [10, 20, 30, 40, 50, 60, 70, 80, 90]\n",
        "# choose a number of time steps\n",
        "n_steps = 4\n",
        "# split into samples\n",
        "X, y = split_sequence(raw_seq, n_steps)\n",
        "# reshape from [samples,timesteps] into [samples,timesteps,features]\n",
        "n_features = 1\n",
        "X = X.reshape((X.shape[0], X.shape[1], n_features))\n",
        "# define model\n",
        "model = Sequential()\n",
        "model.add(LSTM(50, activation='relu', return_sequences=True, input_shape=(n_steps, n_features)))\n",
        "model.add(LSTM(50, activation='relu'))\n",
        "model.add(Dense(1))\n",
        "model.compile(optimizer='adam', loss='mse')\n",
        "# fit model\n",
        "model.fit(X, y, epochs=200, verbose=0)\n",
        "# demonstrate prediction\n",
        "x_input = array([60,70, 80, 90])\n",
        "x_input = x_input.reshape((1, n_steps, n_features))\n",
        "yhat = model.predict(x_input, verbose=0)\n",
        "print(yhat)"
      ],
      "metadata": {
        "colab": {
          "base_uri": "https://localhost:8080/"
        },
        "id": "Z2KiYnwsU8YQ",
        "outputId": "4a91c67c-5767-4fee-a919-2f40a727e9b1"
      },
      "execution_count": null,
      "outputs": [
        {
          "output_type": "stream",
          "name": "stdout",
          "text": [
            "[[103.56283]]\n"
          ]
        }
      ]
    },
    {
      "cell_type": "code",
      "source": [
        "df.head"
      ],
      "metadata": {
        "id": "1QbaBY-EXbyS",
        "colab": {
          "base_uri": "https://localhost:8080/"
        },
        "outputId": "e36d6e29-8479-4b54-c143-3accedafe5a2"
      },
      "execution_count": null,
      "outputs": [
        {
          "output_type": "execute_result",
          "data": {
            "text/plain": [
              "<bound method NDFrame.head of                         IP Address                     Date/Time  \\\n",
              "0                     199.72.81.55  [01/Jul/1995:00:00:01 -0400]   \n",
              "1             unicomp6.unicomp.net  [01/Jul/1995:00:00:06 -0400]   \n",
              "2                   199.120.110.21  [01/Jul/1995:00:00:09 -0400]   \n",
              "3               burger.letters.com  [01/Jul/1995:00:00:11 -0400]   \n",
              "4                   199.120.110.21  [01/Jul/1995:00:00:11 -0400]   \n",
              "...                            ...                           ...   \n",
              "1048570  ix-atl10-28.ix.netcom.com  [14/Jul/1995:10:05:59 -0400]   \n",
              "1048571              198.133.29.18  [14/Jul/1995:10:05:59 -0400]   \n",
              "1048572              192.68.108.59  [14/Jul/1995:10:06:00 -0400]   \n",
              "1048573              192.68.108.59  [14/Jul/1995:10:06:00 -0400]   \n",
              "1048574         oregon.oxmol.co.uk  [14/Jul/1995:10:06:00 -0400]   \n",
              "\n",
              "                                                   Request  \n",
              "0                          \"GET /history/apollo/ HTTP/1.0\"  \n",
              "1                       \"GET /shuttle/countdown/ HTTP/1.0\"  \n",
              "2        \"GET /shuttle/missions/sts-73/mission-sts-73.h...  \n",
              "3           \"GET /shuttle/countdown/liftoff.html HTTP/1.0\"  \n",
              "4        \"GET /shuttle/missions/sts-73/sts-73-patch-sma...  \n",
              "...                                                    ...  \n",
              "1048570  \"GET /shuttle/missions/sts-70/movies/movies.ht...  \n",
              "1048571     \"GET /shuttle/missions/missions.html HTTP/1.0\"  \n",
              "1048572           \"GET /images/KSC-logosmall.gif HTTP/1.0\"  \n",
              "1048573          \"GET /images/NASA-logosmall.gif HTTP/1.0\"  \n",
              "1048574                 \"GET /htbin/cdt_clock.pl HTTP/1.0\"  \n",
              "\n",
              "[1048575 rows x 3 columns]>"
            ]
          },
          "metadata": {},
          "execution_count": 13
        }
      ]
    },
    {
      "cell_type": "code",
      "source": [
        "\n",
        "import matplotlib.pyplot as plt\n",
        "import numpy as np\n",
        "import matplotlib.pyplot as plt\n",
        "from pandas import read_csv\n",
        "import math\n",
        "import tensorflow as tf\n",
        "import pandas as pd\n",
        "from sklearn.preprocessing import MinMaxScaler\n",
        "dataset = pd.read_csv('/content/gdrive/My Drive/output2.csv', usecols=[1], engine='python')\n",
        "plt.plot(dataset)\n",
        "plt.show()\n",
        "# convert an array of values into a dataset matrix\n",
        "def create_dataset(dataset, look_back):\n",
        "\tdataX, dataY = [], []\n",
        "\tfor i in range(len(dataset)-look_back-1):\n",
        "\t\ta = dataset[i:(i+look_back), 0]\n",
        "\t\tdataX.append(a)\n",
        "\t\tdataY.append(dataset[i + look_back, 0])\n",
        "\treturn np.array(dataX), np.array(dataY)\n",
        "\n",
        "# normalize the dataset\n",
        "scaler = MinMaxScaler(feature_range=(0, 1))\n",
        "dataset = scaler.fit_transform(dataset)\n",
        "# split into train and test sets\n",
        "# train_size = int(len(dataset) * 0.63)\n",
        "# val_size=int((len(dataset) - train_size)*0.75)\n",
        "# test_size = (len(dataset) - train_size) - val_size\n",
        "# train, test ,val= dataset[0:train_size,:], dataset[train_size:train_size+val_size,:],dataset[train_size+val_size:len(dataset),:]\n",
        "train_size = int(len(dataset) * 0.70)\n",
        "test_size = len(dataset) - train_size\n",
        "train, test = dataset[0:train_size,:], dataset[train_size:len(dataset),:] \n",
        "plt.plot(train)\n",
        "plt.show()\n",
        "\n",
        "# plt.plot(val)\n",
        "# plt.show()\n",
        "\n",
        "plt.plot(test)\n",
        "plt.show()\n",
        "\n",
        "\n",
        "\n",
        "# reshape into X=t and Y=t+1\n",
        "look_back = 15\n",
        "trainX, trainY = create_dataset(train, look_back)\n",
        "testX, testY = create_dataset(test, look_back)\n",
        "#valX, valY = create_dataset(val, look_back)\n",
        "print(trainX[:5])\n",
        "print(trainY[:5])\n",
        "#print(valX[:5])\n"
      ],
      "metadata": {
        "id": "aq12uLDNas0m",
        "colab": {
          "base_uri": "https://localhost:8080/",
          "height": 1000
        },
        "outputId": "1f169141-107d-4a8c-becc-17532bcfb849"
      },
      "execution_count": 8,
      "outputs": [
        {
          "output_type": "display_data",
          "data": {
            "text/plain": [
              "<Figure size 432x288 with 1 Axes>"
            ],
            "image/png": "[encoded data removed]"
          },
          "metadata": {
            "needs_background": "light"
          }
        },
        {
          "output_type": "display_data",
          "data": {
            "text/plain": [
              "<Figure size 432x288 with 1 Axes>"
            ],
            "image/png": "[encoded data removed]"
          },
          "metadata": {
            "needs_background": "light"
          }
        },
        {
          "output_type": "display_data",
          "data": {
            "text/plain": [
              "<Figure size 432x288 with 1 Axes>"
            ],
            "image/png": "[encoded data removed]"
          },
          "metadata": {
            "needs_background": "light"
          }
        },
        {
          "output_type": "stream",
          "name": "stdout",
          "text": [
            "[[0.14851485 0.13861386 0.17326733 0.17079208 0.13118812 0.12623762\n",
            "  0.16584158 0.11386139 0.11138614 0.12376238 0.17326733 0.13613861\n",
            "  0.10643564 0.0470297  0.00990099]\n",
            " [0.13861386 0.17326733 0.17079208 0.13118812 0.12623762 0.16584158\n",
            "  0.11386139 0.11138614 0.12376238 0.17326733 0.13613861 0.10643564\n",
            "  0.0470297  0.00990099 0.20049505]\n",
            " [0.17326733 0.17079208 0.13118812 0.12623762 0.16584158 0.11386139\n",
            "  0.11138614 0.12376238 0.17326733 0.13613861 0.10643564 0.0470297\n",
            "  0.00990099 0.20049505 0.12623762]\n",
            " [0.17079208 0.13118812 0.12623762 0.16584158 0.11386139 0.11138614\n",
            "  0.12376238 0.17326733 0.13613861 0.10643564 0.0470297  0.00990099\n",
            "  0.20049505 0.12623762 0.15346535]\n",
            " [0.13118812 0.12623762 0.16584158 0.11386139 0.11138614 0.12376238\n",
            "  0.17326733 0.13613861 0.10643564 0.0470297  0.00990099 0.20049505\n",
            "  0.12623762 0.15346535 0.19554455]]\n",
            "[0.20049505 0.12623762 0.15346535 0.19554455 0.19554455]\n"
          ]
        }
      ]
    },
    {
      "cell_type": "code",
      "source": [
        "\n",
        "# reshape input to be [samples, time steps, features]\n",
        "\n",
        "trainX = trainX.reshape( (trainX.shape[0], trainX.shape[1], 1))\n",
        "testX = testX.reshape( (testX.shape[0],trainX.shape[1], 1))\n",
        "#testY=testY.reshape((trainY.shape[1],trainY.shape[0]))\n",
        "#valX = valX.reshape( (valX.shape[0],valX.shape[1], 1))\n",
        "print(trainX.shape)\n",
        "print(trainY.shape)\n",
        "print(testX.shape)\n",
        "print(testY.shape)\n",
        "#print(valX.shape)"
      ],
      "metadata": {
        "id": "ouoxcdD2kbQU",
        "colab": {
          "base_uri": "https://localhost:8080/"
        },
        "outputId": "65852556-e64a-4f7c-a859-2e57cbe0ece7"
      },
      "execution_count": 9,
      "outputs": [
        {
          "output_type": "stream",
          "name": "stdout",
          "text": [
            "(13465, 15, 1)\n",
            "(13465,)\n",
            "(5762, 15, 1)\n",
            "(5762,)\n"
          ]
        }
      ]
    },
    {
      "cell_type": "markdown",
      "source": [],
      "metadata": {
        "id": "ZmRPTJfnka-2"
      }
    },
    {
      "cell_type": "code",
      "source": [
        "# univariate bidirectional lstm example\n",
        "from numpy import array\n",
        "from keras.models import Sequential\n",
        "from keras.layers import LSTM,GRU\n",
        "from keras.layers import Dense\n",
        "from keras.layers import Bidirectional\n",
        "from keras.layers import *\n",
        "\n"
      ],
      "metadata": {
        "id": "bhKcaVRaNMrB"
      },
      "execution_count": 10,
      "outputs": []
    },
    {
      "cell_type": "code",
      "source": [],
      "metadata": {
        "id": "Mo8KZc9Zf14r"
      },
      "execution_count": null,
      "outputs": []
    },
    {
      "cell_type": "code",
      "source": [
        "# define model\n",
        "# create and fit the LSTM network\n",
        "# model = Sequential()\n",
        "# model.add(Bidirectional(LSTM(64, activation='relu'), input_shape=(trainX.shape[1],trainX.shape[2] )))\n",
        "# model.add(Dense(1))\n",
        "# model.compile(optimizer='adam', loss='mse')\n",
        "\n",
        "# model.summary()\n",
        "\n",
        "# model2 = Sequential()\n",
        "# model2.add(Bidirectional(GRU(64, activation='relu'), input_shape=(trainX.shape[1], trainX.shape[2])))\n",
        "# model2.add(Dropout(0.5))\n",
        "# model2.add(Dense(1))\n",
        "\n",
        "# model2.compile(optimizer='adam', loss='mse')\n",
        "\n",
        "# model2.summary()\n",
        "\n",
        "\n",
        "# model4 = Sequential()\n",
        "# model4.add(InputLayer((trainX.shape[1],trainX.shape[2])))\n",
        "# model4.add(GRU(64))\n",
        "# model4.add(Dense(8, 'relu'))\n",
        "# model4.add(Dense(1, 'linear'))\n",
        "# model4.compile(optimizer='adam',loss='mse')\n",
        "\n",
        "# model4.summary()\n",
        "\n",
        "from tensorflow.keras.models import Sequential\n",
        "from tensorflow.keras.layers import InputLayer, GRU, Dense, Dropout\n",
        "from tensorflow.keras.regularizers import l2\n",
        "# from tensorflow.keras.optimizers import SGD\n",
        "\n",
        "# # Define the model architecture\n",
        "# model = Sequential()\n",
        "# model.add(InputLayer(input_shape=(trainX.shape[1], trainX.shape[2])))\n",
        "# model.add(GRU(32, return_sequences=True))\n",
        "# model.add(LSTM(32))\n",
        "# model.add(Dense(8, activation='linear'))\n",
        "# model.add(Dropout(0.2))\n",
        "# model.add(Dense(1, activation='linear', kernel_regularizer=l2(0.01)))\n",
        "\n",
        "# # Compile the model\n",
        "# model.compile(optimizer='adam', loss='mean_squared_error')\n",
        "\n",
        "from tensorflow.keras import layers, regularizers, models\n",
        "\n",
        "model = models.Sequential([\n",
        "    layers.Bidirectional(layers.GRU(units=32, activation='relu', return_sequences=True),\n",
        "                          input_shape=(trainX.shape[1], trainX.shape[2])),\n",
        "     layers.add(Dropout(0.5))\n",
        "     layers.add(CNN)\n",
        "    layers.Dense(units=1, activation='relu', kernel_regularizer=regularizers.l2(0.01))\n",
        "])\n",
        "\n",
        "model.compile(optimizer='adam', loss='mean_squared_error')\n",
        "\n",
        "\n",
        "# Fit the model to the training data\n",
        "model.summary()\n"
      ],
      "metadata": {
        "colab": {
          "base_uri": "https://localhost:8080/"
        },
        "id": "H3DpzHhqeHJJ",
        "outputId": "e98e116a-5f05-4b60-d209-56415f3ef19f"
      },
      "execution_count": 14,
      "outputs": [
        {
          "output_type": "stream",
          "name": "stdout",
          "text": [
            "Model: \"sequential_3\"\n",
            "_________________________________________________________________\n",
            " Layer (type)                Output Shape              Param #   \n",
            "=================================================================\n",
            " bidirectional_3 (Bidirectio  (None, 15, 64)           6720      \n",
            " nal)                                                            \n",
            "                                                                 \n",
            " lstm_3 (LSTM)               (None, 32)                12416     \n",
            "                                                                 \n",
            " dense_3 (Dense)             (None, 1)                 33        \n",
            "                                                                 \n",
            "=================================================================\n",
            "Total params: 19,169\n",
            "Trainable params: 19,169\n",
            "Non-trainable params: 0\n",
            "_________________________________________________________________\n"
          ]
        }
      ]
    },
    {
      "cell_type": "code",
      "source": [
        "model.fit(trainX, trainY, epochs=25, batch_size=20, validation_data=(testX, testY))"
      ],
      "metadata": {
        "colab": {
          "base_uri": "https://localhost:8080/"
        },
        "id": "fw2o9Mru35eY",
        "outputId": "9f8688b8-ef7f-4ed2-f3e9-76c6ea421d22"
      },
      "execution_count": 15,
      "outputs": [
        {
          "output_type": "stream",
          "name": "stdout",
          "text": [
            "Epoch 1/25\n",
            "674/674 [==============================] - 26s 28ms/step - loss: 0.0048 - val_loss: 0.0038\n",
            "Epoch 2/25\n",
            "674/674 [==============================] - 17s 25ms/step - loss: 0.0017 - val_loss: 0.0040\n",
            "Epoch 3/25\n",
            "674/674 [==============================] - 17s 25ms/step - loss: 0.0015 - val_loss: 0.0044\n",
            "Epoch 4/25\n",
            "674/674 [==============================] - 23s 33ms/step - loss: 0.0015 - val_loss: 0.0040\n",
            "Epoch 5/25\n",
            "674/674 [==============================] - 17s 26ms/step - loss: 0.0015 - val_loss: 0.0042\n",
            "Epoch 6/25\n",
            "674/674 [==============================] - 17s 25ms/step - loss: 0.0015 - val_loss: 0.0038\n",
            "Epoch 7/25\n",
            "674/674 [==============================] - 17s 25ms/step - loss: 0.0015 - val_loss: 0.0044\n",
            "Epoch 8/25\n",
            "674/674 [==============================] - 18s 26ms/step - loss: 0.0014 - val_loss: 0.0041\n",
            "Epoch 9/25\n",
            "674/674 [==============================] - 17s 26ms/step - loss: 0.0014 - val_loss: 0.0045\n",
            "Epoch 10/25\n",
            "674/674 [==============================] - 17s 25ms/step - loss: 0.0014 - val_loss: 0.0039\n",
            "Epoch 11/25\n",
            "674/674 [==============================] - 18s 26ms/step - loss: 0.0014 - val_loss: 0.0038\n",
            "Epoch 12/25\n",
            "674/674 [==============================] - 18s 27ms/step - loss: 0.0014 - val_loss: 0.0045\n",
            "Epoch 13/25\n",
            "674/674 [==============================] - 19s 28ms/step - loss: 0.0014 - val_loss: 0.0039\n",
            "Epoch 14/25\n",
            "674/674 [==============================] - 18s 26ms/step - loss: 0.0014 - val_loss: 0.0041\n",
            "Epoch 15/25\n",
            "674/674 [==============================] - 18s 26ms/step - loss: 0.0014 - val_loss: 0.0043\n",
            "Epoch 16/25\n",
            "674/674 [==============================] - 20s 29ms/step - loss: 0.0014 - val_loss: 0.0040\n",
            "Epoch 17/25\n",
            "674/674 [==============================] - 18s 27ms/step - loss: 0.0014 - val_loss: 0.0038\n",
            "Epoch 18/25\n",
            "674/674 [==============================] - 18s 27ms/step - loss: 0.0014 - val_loss: 0.0041\n",
            "Epoch 19/25\n",
            "674/674 [==============================] - 18s 27ms/step - loss: 0.0014 - val_loss: 0.0038\n",
            "Epoch 20/25\n",
            "674/674 [==============================] - 18s 27ms/step - loss: 0.0014 - val_loss: 0.0040\n",
            "Epoch 21/25\n",
            "674/674 [==============================] - 17s 25ms/step - loss: 0.0014 - val_loss: 0.0042\n",
            "Epoch 22/25\n",
            "674/674 [==============================] - 17s 25ms/step - loss: 0.0014 - val_loss: 0.0042\n",
            "Epoch 23/25\n",
            "674/674 [==============================] - 17s 25ms/step - loss: 0.0014 - val_loss: 0.0037\n",
            "Epoch 24/25\n",
            "674/674 [==============================] - 19s 28ms/step - loss: 0.0014 - val_loss: 0.0038\n",
            "Epoch 25/25\n",
            "674/674 [==============================] - 18s 26ms/step - loss: 0.0014 - val_loss: 0.0042\n"
          ]
        },
        {
          "output_type": "execute_result",
          "data": {
            "text/plain": [
              "<keras.callbacks.History at 0x7f91615aaa90>"
            ]
          },
          "metadata": {},
          "execution_count": 15
        }
      ]
    },
    {
      "cell_type": "code",
      "source": [
        "# fit model\n",
        "model2.fit(trainX, trainY, epochs=10, batch_size=10, verbose=0)\n",
        "\n",
        "# from keras.callbacks import EarlyStopping\n",
        "\n",
        "# early_stop = EarlyStopping(monitor='val_loss', patience=10)\n",
        "\n",
        "# model2.fit( trainX, trainY,validation_data=(valX, valY), epochs=15, callbacks=[early_stop])\n"
      ],
      "metadata": {
        "colab": {
          "base_uri": "https://localhost:8080/",
          "height": 382
        },
        "id": "SzW11oUdZ2FM",
        "outputId": "1b4b7be1-a816-48b2-b0e7-6f444418cc95"
      },
      "execution_count": 29,
      "outputs": [
        {
          "output_type": "error",
          "ename": "KeyboardInterrupt",
          "evalue": "ignored",
          "traceback": [
            "\u001b[0;31m---------------------------------------------------------------------------\u001b[0m",
            "\u001b[0;31mKeyboardInterrupt\u001b[0m                         Traceback (most recent call last)",
            "\u001b[0;32m<ipython-input-29-106e869be621>\u001b[0m in \u001b[0;36m<module>\u001b[0;34m\u001b[0m\n\u001b[1;32m      1\u001b[0m \u001b[0;31m# fit model\u001b[0m\u001b[0;34m\u001b[0m\u001b[0;34m\u001b[0m\u001b[0m\n\u001b[0;32m----> 2\u001b[0;31m \u001b[0mmodel2\u001b[0m\u001b[0;34m.\u001b[0m\u001b[0mfit\u001b[0m\u001b[0;34m(\u001b[0m\u001b[0mtrainX\u001b[0m\u001b[0;34m,\u001b[0m \u001b[0mtrainY\u001b[0m\u001b[0;34m,\u001b[0m \u001b[0mepochs\u001b[0m\u001b[0;34m=\u001b[0m\u001b[0;36m10\u001b[0m\u001b[0;34m,\u001b[0m \u001b[0mbatch_size\u001b[0m\u001b[0;34m=\u001b[0m\u001b[0;36m10\u001b[0m\u001b[0;34m,\u001b[0m \u001b[0mverbose\u001b[0m\u001b[0;34m=\u001b[0m\u001b[0;36m0\u001b[0m\u001b[0;34m)\u001b[0m\u001b[0;34m\u001b[0m\u001b[0;34m\u001b[0m\u001b[0m\n\u001b[0m\u001b[1;32m      3\u001b[0m \u001b[0;34m\u001b[0m\u001b[0m\n\u001b[1;32m      4\u001b[0m \u001b[0;31m# from keras.callbacks import EarlyStopping\u001b[0m\u001b[0;34m\u001b[0m\u001b[0;34m\u001b[0m\u001b[0m\n\u001b[1;32m      5\u001b[0m \u001b[0;34m\u001b[0m\u001b[0m\n",
            "\u001b[0;32m/usr/local/lib/python3.9/dist-packages/keras/utils/traceback_utils.py\u001b[0m in \u001b[0;36merror_handler\u001b[0;34m(*args, **kwargs)\u001b[0m\n\u001b[1;32m     63\u001b[0m         \u001b[0mfiltered_tb\u001b[0m \u001b[0;34m=\u001b[0m \u001b[0;32mNone\u001b[0m\u001b[0;34m\u001b[0m\u001b[0;34m\u001b[0m\u001b[0m\n\u001b[1;32m     64\u001b[0m         \u001b[0;32mtry\u001b[0m\u001b[0;34m:\u001b[0m\u001b[0;34m\u001b[0m\u001b[0;34m\u001b[0m\u001b[0m\n\u001b[0;32m---> 65\u001b[0;31m             \u001b[0;32mreturn\u001b[0m \u001b[0mfn\u001b[0m\u001b[0;34m(\u001b[0m\u001b[0;34m*\u001b[0m\u001b[0margs\u001b[0m\u001b[0;34m,\u001b[0m \u001b[0;34m**\u001b[0m\u001b[0mkwargs\u001b[0m\u001b[0;34m)\u001b[0m\u001b[0;34m\u001b[0m\u001b[0;34m\u001b[0m\u001b[0m\n\u001b[0m\u001b[1;32m     66\u001b[0m         \u001b[0;32mexcept\u001b[0m \u001b[0mException\u001b[0m \u001b[0;32mas\u001b[0m \u001b[0me\u001b[0m\u001b[0;34m:\u001b[0m\u001b[0;34m\u001b[0m\u001b[0;34m\u001b[0m\u001b[0m\n\u001b[1;32m     67\u001b[0m             \u001b[0mfiltered_tb\u001b[0m \u001b[0;34m=\u001b[0m \u001b[0m_process_traceback_frames\u001b[0m\u001b[0;34m(\u001b[0m\u001b[0me\u001b[0m\u001b[0;34m.\u001b[0m\u001b[0m__traceback__\u001b[0m\u001b[0;34m)\u001b[0m\u001b[0;34m\u001b[0m\u001b[0;34m\u001b[0m\u001b[0m\n",
            "\u001b[0;32m/usr/local/lib/python3.9/dist-packages/keras/engine/training.py\u001b[0m in \u001b[0;36mfit\u001b[0;34m(self, x, y, batch_size, epochs, verbose, callbacks, validation_split, validation_data, shuffle, class_weight, sample_weight, initial_epoch, steps_per_epoch, validation_steps, validation_batch_size, validation_freq, max_queue_size, workers, use_multiprocessing)\u001b[0m\n\u001b[1;32m   1648\u001b[0m                         ):\n\u001b[1;32m   1649\u001b[0m                             \u001b[0mcallbacks\u001b[0m\u001b[0;34m.\u001b[0m\u001b[0mon_train_batch_begin\u001b[0m\u001b[0;34m(\u001b[0m\u001b[0mstep\u001b[0m\u001b[0;34m)\u001b[0m\u001b[0;34m\u001b[0m\u001b[0;34m\u001b[0m\u001b[0m\n\u001b[0;32m-> 1650\u001b[0;31m                             \u001b[0mtmp_logs\u001b[0m \u001b[0;34m=\u001b[0m \u001b[0mself\u001b[0m\u001b[0;34m.\u001b[0m\u001b[0mtrain_function\u001b[0m\u001b[0;34m(\u001b[0m\u001b[0miterator\u001b[0m\u001b[0;34m)\u001b[0m\u001b[0;34m\u001b[0m\u001b[0;34m\u001b[0m\u001b[0m\n\u001b[0m\u001b[1;32m   1651\u001b[0m                             \u001b[0;32mif\u001b[0m \u001b[0mdata_handler\u001b[0m\u001b[0;34m.\u001b[0m\u001b[0mshould_sync\u001b[0m\u001b[0;34m:\u001b[0m\u001b[0;34m\u001b[0m\u001b[0;34m\u001b[0m\u001b[0m\n\u001b[1;32m   1652\u001b[0m                                 \u001b[0mcontext\u001b[0m\u001b[0;34m.\u001b[0m\u001b[0masync_wait\u001b[0m\u001b[0;34m(\u001b[0m\u001b[0;34m)\u001b[0m\u001b[0;34m\u001b[0m\u001b[0;34m\u001b[0m\u001b[0m\n",
            "\u001b[0;32m/usr/local/lib/python3.9/dist-packages/tensorflow/python/util/traceback_utils.py\u001b[0m in \u001b[0;36merror_handler\u001b[0;34m(*args, **kwargs)\u001b[0m\n\u001b[1;32m    148\u001b[0m     \u001b[0mfiltered_tb\u001b[0m \u001b[0;34m=\u001b[0m \u001b[0;32mNone\u001b[0m\u001b[0;34m\u001b[0m\u001b[0;34m\u001b[0m\u001b[0m\n\u001b[1;32m    149\u001b[0m     \u001b[0;32mtry\u001b[0m\u001b[0;34m:\u001b[0m\u001b[0;34m\u001b[0m\u001b[0;34m\u001b[0m\u001b[0m\n\u001b[0;32m--> 150\u001b[0;31m       \u001b[0;32mreturn\u001b[0m \u001b[0mfn\u001b[0m\u001b[0;34m(\u001b[0m\u001b[0;34m*\u001b[0m\u001b[0margs\u001b[0m\u001b[0;34m,\u001b[0m \u001b[0;34m**\u001b[0m\u001b[0mkwargs\u001b[0m\u001b[0;34m)\u001b[0m\u001b[0;34m\u001b[0m\u001b[0;34m\u001b[0m\u001b[0m\n\u001b[0m\u001b[1;32m    151\u001b[0m     \u001b[0;32mexcept\u001b[0m \u001b[0mException\u001b[0m \u001b[0;32mas\u001b[0m \u001b[0me\u001b[0m\u001b[0;34m:\u001b[0m\u001b[0;34m\u001b[0m\u001b[0;34m\u001b[0m\u001b[0m\n\u001b[1;32m    152\u001b[0m       \u001b[0mfiltered_tb\u001b[0m \u001b[0;34m=\u001b[0m \u001b[0m_process_traceback_frames\u001b[0m\u001b[0;34m(\u001b[0m\u001b[0me\u001b[0m\u001b[0;34m.\u001b[0m\u001b[0m__traceback__\u001b[0m\u001b[0;34m)\u001b[0m\u001b[0;34m\u001b[0m\u001b[0;34m\u001b[0m\u001b[0m\n",
            "\u001b[0;32m/usr/local/lib/python3.9/dist-packages/tensorflow/python/eager/polymorphic_function/polymorphic_function.py\u001b[0m in \u001b[0;36m__call__\u001b[0;34m(self, *args, **kwds)\u001b[0m\n\u001b[1;32m    878\u001b[0m \u001b[0;34m\u001b[0m\u001b[0m\n\u001b[1;32m    879\u001b[0m       \u001b[0;32mwith\u001b[0m \u001b[0mOptionalXlaContext\u001b[0m\u001b[0;34m(\u001b[0m\u001b[0mself\u001b[0m\u001b[0;34m.\u001b[0m\u001b[0m_jit_compile\u001b[0m\u001b[0;34m)\u001b[0m\u001b[0;34m:\u001b[0m\u001b[0;34m\u001b[0m\u001b[0;34m\u001b[0m\u001b[0m\n\u001b[0;32m--> 880\u001b[0;31m         \u001b[0mresult\u001b[0m \u001b[0;34m=\u001b[0m \u001b[0mself\u001b[0m\u001b[0;34m.\u001b[0m\u001b[0m_call\u001b[0m\u001b[0;34m(\u001b[0m\u001b[0;34m*\u001b[0m\u001b[0margs\u001b[0m\u001b[0;34m,\u001b[0m \u001b[0;34m**\u001b[0m\u001b[0mkwds\u001b[0m\u001b[0;34m)\u001b[0m\u001b[0;34m\u001b[0m\u001b[0;34m\u001b[0m\u001b[0m\n\u001b[0m\u001b[1;32m    881\u001b[0m \u001b[0;34m\u001b[0m\u001b[0m\n\u001b[1;32m    882\u001b[0m       \u001b[0mnew_tracing_count\u001b[0m \u001b[0;34m=\u001b[0m \u001b[0mself\u001b[0m\u001b[0;34m.\u001b[0m\u001b[0mexperimental_get_tracing_count\u001b[0m\u001b[0;34m(\u001b[0m\u001b[0;34m)\u001b[0m\u001b[0;34m\u001b[0m\u001b[0;34m\u001b[0m\u001b[0m\n",
            "\u001b[0;32m/usr/local/lib/python3.9/dist-packages/tensorflow/python/eager/polymorphic_function/polymorphic_function.py\u001b[0m in \u001b[0;36m_call\u001b[0;34m(self, *args, **kwds)\u001b[0m\n\u001b[1;32m    910\u001b[0m       \u001b[0;31m# In this case we have created variables on the first call, so we run the\u001b[0m\u001b[0;34m\u001b[0m\u001b[0;34m\u001b[0m\u001b[0m\n\u001b[1;32m    911\u001b[0m       \u001b[0;31m# defunned version which is guaranteed to never create variables.\u001b[0m\u001b[0;34m\u001b[0m\u001b[0;34m\u001b[0m\u001b[0m\n\u001b[0;32m--> 912\u001b[0;31m       \u001b[0;32mreturn\u001b[0m \u001b[0mself\u001b[0m\u001b[0;34m.\u001b[0m\u001b[0m_no_variable_creation_fn\u001b[0m\u001b[0;34m(\u001b[0m\u001b[0;34m*\u001b[0m\u001b[0margs\u001b[0m\u001b[0;34m,\u001b[0m \u001b[0;34m**\u001b[0m\u001b[0mkwds\u001b[0m\u001b[0;34m)\u001b[0m  \u001b[0;31m# pylint: disable=not-callable\u001b[0m\u001b[0;34m\u001b[0m\u001b[0;34m\u001b[0m\u001b[0m\n\u001b[0m\u001b[1;32m    913\u001b[0m     \u001b[0;32melif\u001b[0m \u001b[0mself\u001b[0m\u001b[0;34m.\u001b[0m\u001b[0m_variable_creation_fn\u001b[0m \u001b[0;32mis\u001b[0m \u001b[0;32mnot\u001b[0m \u001b[0;32mNone\u001b[0m\u001b[0;34m:\u001b[0m\u001b[0;34m\u001b[0m\u001b[0;34m\u001b[0m\u001b[0m\n\u001b[1;32m    914\u001b[0m       \u001b[0;31m# Release the lock early so that multiple threads can perform the call\u001b[0m\u001b[0;34m\u001b[0m\u001b[0;34m\u001b[0m\u001b[0m\n",
            "\u001b[0;32m/usr/local/lib/python3.9/dist-packages/tensorflow/python/eager/polymorphic_function/tracing_compiler.py\u001b[0m in \u001b[0;36m__call__\u001b[0;34m(self, *args, **kwargs)\u001b[0m\n\u001b[1;32m    132\u001b[0m       (concrete_function,\n\u001b[1;32m    133\u001b[0m        filtered_flat_args) = self._maybe_define_function(args, kwargs)\n\u001b[0;32m--> 134\u001b[0;31m     return concrete_function._call_flat(\n\u001b[0m\u001b[1;32m    135\u001b[0m         filtered_flat_args, captured_inputs=concrete_function.captured_inputs)  # pylint: disable=protected-access\n\u001b[1;32m    136\u001b[0m \u001b[0;34m\u001b[0m\u001b[0m\n",
            "\u001b[0;32m/usr/local/lib/python3.9/dist-packages/tensorflow/python/eager/polymorphic_function/monomorphic_function.py\u001b[0m in \u001b[0;36m_call_flat\u001b[0;34m(self, args, captured_inputs, cancellation_manager)\u001b[0m\n\u001b[1;32m   1743\u001b[0m         and executing_eagerly):\n\u001b[1;32m   1744\u001b[0m       \u001b[0;31m# No tape is watching; skip to running the function.\u001b[0m\u001b[0;34m\u001b[0m\u001b[0;34m\u001b[0m\u001b[0m\n\u001b[0;32m-> 1745\u001b[0;31m       return self._build_call_outputs(self._inference_function.call(\n\u001b[0m\u001b[1;32m   1746\u001b[0m           ctx, args, cancellation_manager=cancellation_manager))\n\u001b[1;32m   1747\u001b[0m     forward_backward = self._select_forward_and_backward_functions(\n",
            "\u001b[0;32m/usr/local/lib/python3.9/dist-packages/tensorflow/python/eager/polymorphic_function/monomorphic_function.py\u001b[0m in \u001b[0;36mcall\u001b[0;34m(self, ctx, args, cancellation_manager)\u001b[0m\n\u001b[1;32m    376\u001b[0m       \u001b[0;32mwith\u001b[0m \u001b[0m_InterpolateFunctionError\u001b[0m\u001b[0;34m(\u001b[0m\u001b[0mself\u001b[0m\u001b[0;34m)\u001b[0m\u001b[0;34m:\u001b[0m\u001b[0;34m\u001b[0m\u001b[0;34m\u001b[0m\u001b[0m\n\u001b[1;32m    377\u001b[0m         \u001b[0;32mif\u001b[0m \u001b[0mcancellation_manager\u001b[0m \u001b[0;32mis\u001b[0m \u001b[0;32mNone\u001b[0m\u001b[0;34m:\u001b[0m\u001b[0;34m\u001b[0m\u001b[0;34m\u001b[0m\u001b[0m\n\u001b[0;32m--> 378\u001b[0;31m           outputs = execute.execute(\n\u001b[0m\u001b[1;32m    379\u001b[0m               \u001b[0mstr\u001b[0m\u001b[0;34m(\u001b[0m\u001b[0mself\u001b[0m\u001b[0;34m.\u001b[0m\u001b[0msignature\u001b[0m\u001b[0;34m.\u001b[0m\u001b[0mname\u001b[0m\u001b[0;34m)\u001b[0m\u001b[0;34m,\u001b[0m\u001b[0;34m\u001b[0m\u001b[0;34m\u001b[0m\u001b[0m\n\u001b[1;32m    380\u001b[0m               \u001b[0mnum_outputs\u001b[0m\u001b[0;34m=\u001b[0m\u001b[0mself\u001b[0m\u001b[0;34m.\u001b[0m\u001b[0m_num_outputs\u001b[0m\u001b[0;34m,\u001b[0m\u001b[0;34m\u001b[0m\u001b[0;34m\u001b[0m\u001b[0m\n",
            "\u001b[0;32m/usr/local/lib/python3.9/dist-packages/tensorflow/python/eager/execute.py\u001b[0m in \u001b[0;36mquick_execute\u001b[0;34m(op_name, num_outputs, inputs, attrs, ctx, name)\u001b[0m\n\u001b[1;32m     50\u001b[0m   \u001b[0;32mtry\u001b[0m\u001b[0;34m:\u001b[0m\u001b[0;34m\u001b[0m\u001b[0;34m\u001b[0m\u001b[0m\n\u001b[1;32m     51\u001b[0m     \u001b[0mctx\u001b[0m\u001b[0;34m.\u001b[0m\u001b[0mensure_initialized\u001b[0m\u001b[0;34m(\u001b[0m\u001b[0;34m)\u001b[0m\u001b[0;34m\u001b[0m\u001b[0;34m\u001b[0m\u001b[0m\n\u001b[0;32m---> 52\u001b[0;31m     tensors = pywrap_tfe.TFE_Py_Execute(ctx._handle, device_name, op_name,\n\u001b[0m\u001b[1;32m     53\u001b[0m                                         inputs, attrs, num_outputs)\n\u001b[1;32m     54\u001b[0m   \u001b[0;32mexcept\u001b[0m \u001b[0mcore\u001b[0m\u001b[0;34m.\u001b[0m\u001b[0m_NotOkStatusException\u001b[0m \u001b[0;32mas\u001b[0m \u001b[0me\u001b[0m\u001b[0;34m:\u001b[0m\u001b[0;34m\u001b[0m\u001b[0;34m\u001b[0m\u001b[0m\n",
            "\u001b[0;31mKeyboardInterrupt\u001b[0m: "
          ]
        }
      ]
    },
    {
      "cell_type": "code",
      "source": [
        "# fit model\n",
        "model4.fit(trainX, trainY, epochs=10, batch_size=10, verbose=0)\n"
      ],
      "metadata": {
        "colab": {
          "base_uri": "https://localhost:8080/"
        },
        "id": "MhmpxPcuBHzt",
        "outputId": "207ddffe-c74e-4a31-c39f-78796a795e81"
      },
      "execution_count": 14,
      "outputs": [
        {
          "output_type": "execute_result",
          "data": {
            "text/plain": [
              "<keras.callbacks.History at 0x7f214e7bb790>"
            ]
          },
          "metadata": {},
          "execution_count": 14
        }
      ]
    },
    {
      "cell_type": "code",
      "source": [
        "# make predictions\n",
        "import time\n",
        "trainPredict = model.predict(trainX)\n",
        "start_time = time.time()\n",
        "testPredict = model.predict(testX)\n",
        "end_time = time.time()\n",
        "# invert predictions\n",
        "trainPredict = scaler.inverse_transform(trainPredict)\n",
        "trainY = scaler.inverse_transform([trainY])\n",
        "testPredict = scaler.inverse_transform(testPredict)\n",
        "testY = scaler.inverse_transform([testY])"
      ],
      "metadata": {
        "colab": {
          "base_uri": "https://localhost:8080/"
        },
        "id": "EYAb-dIVfS-S",
        "outputId": "5e08c660-1143-4b92-ff52-33a42d920bfc"
      },
      "execution_count": 16,
      "outputs": [
        {
          "output_type": "stream",
          "name": "stdout",
          "text": [
            "421/421 [==============================] - 4s 6ms/step\n",
            "181/181 [==============================] - 1s 6ms/step\n"
          ]
        }
      ]
    },
    {
      "cell_type": "code",
      "source": [
        "\n",
        "\n",
        "plt.plot(testPredict)\n",
        "plt.show()\n",
        "\n",
        "\n"
      ],
      "metadata": {
        "colab": {
          "base_uri": "https://localhost:8080/",
          "height": 265
        },
        "id": "aDK13fnqohPg",
        "outputId": "6c178f07-7039-45dc-ac9b-fb616f6bb5ad"
      },
      "execution_count": 17,
      "outputs": [
        {
          "output_type": "display_data",
          "data": {
            "text/plain": [
              "<Figure size 432x288 with 1 Axes>"
            ],
            "image/png": "[encoded data removed]"
          },
          "metadata": {
            "needs_background": "light"
          }
        }
      ]
    },
    {
      "cell_type": "code",
      "source": [
        "from sklearn.metrics import mean_squared_error\n",
        "#  calculate root mean squared error\n",
        "trainScore = np.sqrt(mean_squared_error(trainY[0], trainPredict[:,0]))\n",
        "print('Train Score: %.2f RMSE' % (trainScore))\n",
        "testScore = np.sqrt(mean_squared_error(testY[0], testPredict[:,0]))\n",
        "print('Test Score: %.2f RMSE' % (testScore))\n",
        "\n",
        "\n",
        "\n",
        "print('Time taken for prediction: {:.2f} seconds'.format(end_time - start_time))\n",
        "\n",
        "# shift train predictions for plotting\n",
        "trainPredictPlot = np.empty_like(dataset)\n",
        "trainPredictPlot[:, :] = np.nan\n",
        "trainPredictPlot[look_back:len(trainPredict)+look_back, :] = trainPredict\n",
        "# shift test predictions for plotting\n",
        "testPredictPlot = np.empty_like(dataset)\n",
        "testPredictPlot[:, :] = np.nan\n",
        "testPredictPlot[len(trainPredict)+(look_back*2)+1:len(dataset)-1, :] = testPredict\n",
        "# plot baseline and predictions\n",
        "plt.plot(scaler.inverse_transform(dataset))\n",
        "plt.plot(trainPredictPlot)\n",
        "plt.plot(testPredictPlot)\n",
        "plt.show()"
      ],
      "metadata": {
        "id": "iTt7B9Wpo5kL",
        "colab": {
          "base_uri": "https://localhost:8080/",
          "height": 317
        },
        "outputId": "30c1cb90-69be-4a25-c41d-b60a1f2d5231"
      },
      "execution_count": 53,
      "outputs": [
        {
          "output_type": "stream",
          "name": "stdout",
          "text": [
            "Train Score: 14.95 RMSE\n",
            "Test Score: 23.52 RMSE\n",
            "Time taken for prediction: 1.23 seconds\n"
          ]
        },
        {
          "output_type": "display_data",
          "data": {
            "text/plain": [
              "<Figure size 432x288 with 1 Axes>"
            ],
            "image/png": "[encoded data removed]"
          },
          "metadata": {
            "needs_background": "light"
          }
        }
      ]
    },
    {
      "cell_type": "code",
      "source": [
        "model.save('/content/gdrive/My Drive/modelgru&lstm.h5')"
      ],
      "metadata": {
        "id": "eooQZmLsCzlo"
      },
      "execution_count": 40,
      "outputs": []
    },
    {
      "cell_type": "code",
      "source": [
        "model.save_weights('path_to_saved_weights.h5')"
      ],
      "metadata": {
        "id": "besjMcf_FKPC"
      },
      "execution_count": null,
      "outputs": []
    },
    {
      "cell_type": "code",
      "source": [],
      "metadata": {
        "id": "StmpwE0VFK3j"
      },
      "execution_count": null,
      "outputs": []
    }
  ]
}